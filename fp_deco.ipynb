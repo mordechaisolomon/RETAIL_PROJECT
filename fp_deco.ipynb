{
 "cells": [
  {
   "cell_type": "markdown",
   "id": "c5737311",
   "metadata": {},
   "source": [
    "# FINAL PROJECT DECOMPOSITION \n",
    "## Retail: Assess Sales Outlets' Performance"
   ]
  },
  {
   "cell_type": "markdown",
   "id": "99ce39be",
   "metadata": {},
   "source": [
    "## INTRODUCTION\n",
    "as a analyst in a retail chain we want to know whats going on and espacialy with the membership card we salling to costumers so we decided to make a research with studdying the questions below"
   ]
  },
  {
   "cell_type": "markdown",
   "id": "52bd2fa5",
   "metadata": {},
   "source": [
    "### what do we want to learn from our data set?\n",
    "1. what is the most sold product in the chain overall and per shop\n",
    "2. does the product change by time period\n",
    "3. can we build a product basket for costumers or is it to randomaly\n",
    "4. does our membership effect our buyers to buy more and is there a diffrence in time between a membership value do to time life"
   ]
  },
  {
   "cell_type": "markdown",
   "id": "c29fb510",
   "metadata": {},
   "source": [
    "### who does it matter for?\n",
    "this research can effect shop managers to make sales on products that go together, it can help week shop to try things as stronger shops. it can make the membership marketting more effective that costumers can join it and i am sure more sides of the chain can make benafets from this research"
   ]
  },
  {
   "cell_type": "markdown",
   "id": "f62452c7",
   "metadata": {},
   "source": [
    "## STEP 1- DOWNLOADING AND PREPROCCESSING \n",
    "- first thing we download the dataset.\n",
    "- next we study the datatypes, missing values and duplicates.\n",
    "- checking for nulls. \n",
    "- changing whats needed.\n"
   ]
  },
  {
   "cell_type": "markdown",
   "id": "04ba281a",
   "metadata": {},
   "source": [
    "## STEP 2- EDA\n",
    "now we will start with learnning the data and dive in to it.\n",
    "- we merge tables to one that we can calculate revanue.\n",
    "- calculate metrics we need as\n",
    "    -- best shop per revanue and purchases\n",
    "    -- best product sales overall and per shop\n",
    "- visiual the findings\n",
    "- building a table groupped by membership and analysis the diffrence between them\n",
    "- visiualing it"
   ]
  },
  {
   "cell_type": "markdown",
   "id": "a3185d98",
   "metadata": {},
   "source": [
    "## STEP 3- STATISTICAL TEST\n",
    "making a hypothesis that will check if there is a diffrence between membership sales and non-membership sales.\n",
    "H0 is there is no diffrence between membership or not.\n",
    "H1 there is a diffrence to be a member\n",
    "alpha will be set to 0.05\n"
   ]
  },
  {
   "cell_type": "markdown",
   "id": "49dd05c7",
   "metadata": {},
   "source": [
    "## STEP 4- COHORT ANALYST\n",
    "- findind WAU and MAU\n",
    "- making cohort by date/ membership\n",
    "- analyze and visual it"
   ]
  },
  {
   "cell_type": "markdown",
   "id": "df6e23ad",
   "metadata": {},
   "source": [
    "## STEP 5- DASHBOARDS\n",
    "building a dashboard with filters on Tableau"
   ]
  },
  {
   "cell_type": "markdown",
   "id": "48e00054",
   "metadata": {},
   "source": [
    "## STEP 6- CONCLUSIONS\n",
    "writing conclusions and recomedations to questions above from our analysis of the project"
   ]
  },
  {
   "cell_type": "markdown",
   "id": "c08a344e",
   "metadata": {},
   "source": [
    "## step 7- PRESENTATION\n",
    "preparing a presantation of the findings on project"
   ]
  },
  {
   "cell_type": "markdown",
   "id": "34f78577",
   "metadata": {},
   "source": [
    "### TIME TABLE\n",
    "- STEP 1: 0.5 DAY\n",
    "- STEP 2: 2 DAYS\n",
    "- STEP 3: 1 DAY\n",
    "- STEP 4: 1 DAY\n",
    "- STEP 5: 1 DAY\n",
    "- STEP 6 AND 7: 1 DAY\n",
    "OVERALL TIME: ~ 7 DAYS"
   ]
  },
  {
   "cell_type": "markdown",
   "id": "9d6a33de",
   "metadata": {},
   "source": [
    "<hr>\n",
    "<b>Anton's comments:</b> Hello Mordechai! Thank you for sending the decomposition. Plan sounds reasonable to me! Good luck with other parts of the Final Sprint!"
   ]
  },
  {
   "cell_type": "code",
   "execution_count": null,
   "id": "667dceb6",
   "metadata": {},
   "outputs": [],
   "source": []
  }
 ],
 "metadata": {
  "kernelspec": {
   "display_name": "Python 3 (ipykernel)",
   "language": "python",
   "name": "python3"
  },
  "language_info": {
   "codemirror_mode": {
    "name": "ipython",
    "version": 3
   },
   "file_extension": ".py",
   "mimetype": "text/x-python",
   "name": "python",
   "nbconvert_exporter": "python",
   "pygments_lexer": "ipython3",
   "version": "3.9.5"
  },
  "toc": {
   "base_numbering": 1,
   "nav_menu": {},
   "number_sections": true,
   "sideBar": true,
   "skip_h1_title": true,
   "title_cell": "Table of Contents",
   "title_sidebar": "Contents",
   "toc_cell": false,
   "toc_position": {},
   "toc_section_display": true,
   "toc_window_display": false
  }
 },
 "nbformat": 4,
 "nbformat_minor": 5
}
